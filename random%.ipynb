{
 "cells": [
  {
   "cell_type": "code",
   "execution_count": 37,
   "metadata": {},
   "outputs": [],
   "source": [
    "import pandas as pd\n",
    "import random\n",
    "from datetime import datetime"
   ]
  },
  {
   "cell_type": "markdown",
   "metadata": {},
   "source": [
    "## Reading the entities data"
   ]
  },
  {
   "cell_type": "code",
   "execution_count": 38,
   "metadata": {},
   "outputs": [],
   "source": [
    "Entities=pd.read_excel('./Risk Profile.xlsx',sheet_name='Entities')"
   ]
  },
  {
   "cell_type": "markdown",
   "metadata": {},
   "source": [
    "### since we do not have the income data I am going to remove it from the data frame also the Tampered Device? column"
   ]
  },
  {
   "cell_type": "code",
   "execution_count": 39,
   "metadata": {},
   "outputs": [],
   "source": [
    "Entities.drop(['Income','Tampered Device?'],axis=1,inplace=True)"
   ]
  },
  {
   "cell_type": "markdown",
   "metadata": {},
   "source": [
    "### conver the DOB column to age "
   ]
  },
  {
   "cell_type": "code",
   "execution_count": 40,
   "metadata": {},
   "outputs": [],
   "source": [
    "Entities.DOB=Entities.DOB.map(lambda e:int((pd.to_datetime('01-09-2018')-e).components[0]/365))"
   ]
  },
  {
   "cell_type": "markdown",
   "metadata": {},
   "source": [
    "## Reading the classes"
   ]
  },
  {
   "cell_type": "code",
   "execution_count": 41,
   "metadata": {},
   "outputs": [],
   "source": [
    "Age=pd.read_excel('./Risk Profile.xlsx',sheet_name='Age')\n",
    "Occupation=pd.read_excel('./Risk Profile.xlsx',sheet_name='Occupation')\n",
    "Gender=pd.read_excel('./Risk Profile.xlsx',sheet_name='Gender')\n",
    "Nationalities=pd.read_excel('./Risk Profile.xlsx',sheet_name='Nationalities')\n",
    "Cities=pd.read_excel('./Risk Profile.xlsx',sheet_name='Cities')"
   ]
  },
  {
   "cell_type": "markdown",
   "metadata": {},
   "source": [
    "### convert the classes of Age data to range "
   ]
  },
  {
   "cell_type": "code",
   "execution_count": 42,
   "metadata": {
    "scrolled": true
   },
   "outputs": [],
   "source": [
    "Age.Age=Age.Age.map(lambda e:range(int(e.split('-')[0]),int(e.split('-')[1])+1))"
   ]
  },
  {
   "cell_type": "markdown",
   "metadata": {},
   "source": [
    "## Define a function to give each classes a random values btween [0.1,1]"
   ]
  },
  {
   "cell_type": "code",
   "execution_count": 43,
   "metadata": {},
   "outputs": [],
   "source": [
    "def RiskFactor(DataFrame):\n",
    "    DataFrame['RiskFactor']=pd.Series()\n",
    "    for i in range(len(DataFrame)):\n",
    "        DataFrame['RiskFactor'].iloc[i]=random.randint(1,10)/10"
   ]
  },
  {
   "cell_type": "code",
   "execution_count": 44,
   "metadata": {
    "scrolled": true
   },
   "outputs": [],
   "source": [
    "%%capture --no-stdout\n",
    "RiskFactor(Age)\n",
    "RiskFactor(Occupation)\n",
    "RiskFactor(Gender)\n",
    "RiskFactor(Nationalities)\n",
    "RiskFactor(Cities)"
   ]
  },
  {
   "cell_type": "markdown",
   "metadata": {},
   "source": [
    "## Dictionary for wieghts"
   ]
  },
  {
   "cell_type": "code",
   "execution_count": 45,
   "metadata": {},
   "outputs": [],
   "source": [
    "wieght={'age':0.3,'occupation':0.1,'gender':0.2,'nationalities':0.3,'cities':0.1}"
   ]
  },
  {
   "cell_type": "markdown",
   "metadata": {},
   "source": [
    "## Define a function that takes a client ID and give the risk score"
   ]
  },
  {
   "cell_type": "code",
   "execution_count": 46,
   "metadata": {},
   "outputs": [],
   "source": [
    "def ClientScore(clientID):\n",
    "    risk_score=0\n",
    "    for c in range(len(Entities)):\n",
    "            if Entities.ID.iloc[c]==clientID:\n",
    "                Age_f=[Age.RiskFactor.iloc[i] for i in range(len(Age)) if Entities.DOB.iloc[c] in Age.Age[i]]\n",
    "                #print(Age_f)\n",
    "                Occupation_f=[Occupation.RiskFactor.iloc[i] for i in range(len(Occupation)) \n",
    "                              if Entities.Occupation.iloc[c]==Occupation.Occupation.iloc[i]]\n",
    "                #print(Occupation_f)\n",
    "                Gender_f=[Gender.RiskFactor.iloc[i] for i in range(len(Gender)) \n",
    "                          if Entities.Gender.iloc[c]==Gender.Gender.iloc[i]]\n",
    "                #print(Gender_f)\n",
    "                Nationalities_f=[Nationalities.RiskFactor.iloc[i] for i in range(len(Nationalities)) \n",
    "                                if Entities.Nationality.iloc[c].lower()==Nationalities.Nationality.iloc[i].lower()]\n",
    "                #print(Nationalities_f)\n",
    "                Cities_f=[Cities.RiskFactor.iloc[i] for i in range(len(Cities)) \n",
    "                         if Entities.City.iloc[c]==Cities.City.iloc[i]]\n",
    "                #print(Cities_f)\n",
    "                risk_score=((wieght['age']*Age_f[0])+(wieght['occupation']*Occupation_f[0])+(wieght['gender']*Gender_f[0])+(wieght['nationalities']*Nationalities_f[0])+(wieght['cities']*Cities_f[0])).round(3)\n",
    "    return risk_score "
   ]
  },
  {
   "cell_type": "markdown",
   "metadata": {},
   "source": [
    "## Create a new column for risk score "
   ]
  },
  {
   "cell_type": "code",
   "execution_count": 48,
   "metadata": {
    "scrolled": true
   },
   "outputs": [
    {
     "name": "stderr",
     "output_type": "stream",
     "text": [
      "/Users/amjadalabdullah/anaconda3/lib/python3.6/site-packages/ipykernel_launcher.py:3: SettingWithCopyWarning: \n",
      "A value is trying to be set on a copy of a slice from a DataFrame\n",
      "\n",
      "See the caveats in the documentation: http://pandas.pydata.org/pandas-docs/stable/indexing.html#indexing-view-versus-copy\n",
      "  This is separate from the ipykernel package so we can avoid doing imports until\n"
     ]
    }
   ],
   "source": [
    "Entities['RiskScore']=pd.Series()\n",
    "for i in range(len(Entities)):\n",
    "    Entities['RiskScore'][i]=ClientScore(Entities.ID[i])"
   ]
  },
  {
   "cell_type": "markdown",
   "metadata": {},
   "source": [
    "### Save the file"
   ]
  },
  {
   "cell_type": "code",
   "execution_count": 51,
   "metadata": {},
   "outputs": [],
   "source": [
    "Entities.to_csv('./Entities')"
   ]
  }
 ],
 "metadata": {
  "kernelspec": {
   "display_name": "Python 3",
   "language": "python",
   "name": "python3"
  },
  "language_info": {
   "codemirror_mode": {
    "name": "ipython",
    "version": 3
   },
   "file_extension": ".py",
   "mimetype": "text/x-python",
   "name": "python",
   "nbconvert_exporter": "python",
   "pygments_lexer": "ipython3",
   "version": "3.6.5"
  }
 },
 "nbformat": 4,
 "nbformat_minor": 2
}
